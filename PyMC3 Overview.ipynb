{
 "cells": [
  {
   "cell_type": "markdown",
   "metadata": {
    "slideshow": {
     "slide_type": "slide"
    }
   },
   "source": [
    "<center>\n",
    "    <h1>PyMC3</h1>\n",
    "\n",
    "<img src='PyMC3.png' height=\"300\">\n",
    "\n",
    "<h2><em><a href=\"https://docs.pymc.io/\">docs.pymc.io</a></em></h2>\n",
    "</center>"
   ]
  },
  {
   "cell_type": "markdown",
   "metadata": {
    "slideshow": {
     "slide_type": "slide"
    }
   },
   "source": [
    "# What does it do?\n"
   ]
  },
  {
   "cell_type": "markdown",
   "metadata": {
    "slideshow": {
     "slide_type": "slide"
    }
   },
   "source": [
    "<center><h1>Rugby Analytics</h1>\n",
    "\n",
    "<img src='rugby1.png'>\n",
    "</center>\n",
    "<cite>Peadar Coyle</cite>\n"
   ]
  },
  {
   "cell_type": "markdown",
   "metadata": {
    "slideshow": {
     "slide_type": "slide"
    }
   },
   "source": [
    "<center><h1>Rugby Analytics</h1>\n",
    "\n",
    "<img src='rugby2.png'>\n",
    "</center>\n",
    "<cite>Peadar Coyle</cite>\n"
   ]
  },
  {
   "cell_type": "markdown",
   "metadata": {
    "slideshow": {
     "slide_type": "slide"
    }
   },
   "source": [
    "<center><h1>Election Estimates</h1>\n",
    "<img src='gerrymander1.png'>\n",
    "</center>\n",
    "<cite>Karin Knudson</cite>"
   ]
  },
  {
   "cell_type": "markdown",
   "metadata": {
    "slideshow": {
     "slide_type": "slide"
    }
   },
   "source": [
    "<center><h1>Election Estimates</h1></center>\n",
    "\n",
    "<img src='gerrymander2.png'>\n",
    "<cite>Karin Knudson</cite>"
   ]
  },
  {
   "cell_type": "markdown",
   "metadata": {
    "slideshow": {
     "slide_type": "slide"
    }
   },
   "source": [
    "<center><h1>Election Estimates</h1>\n",
    "<img src='gerrymander3.png'>\n",
    "    </center>\n",
    "<cite>Karin Knudson</cite>"
   ]
  },
  {
   "cell_type": "markdown",
   "metadata": {
    "slideshow": {
     "slide_type": "slide"
    }
   },
   "source": [
    "<center><h1>Quantitative Finance</h1>\n",
    "\n",
    "<img src='bayesian_variance.png'>\n",
    "</center>\n",
    "<cite>Max Margenot</cite>\n"
   ]
  },
  {
   "cell_type": "markdown",
   "metadata": {
    "slideshow": {
     "slide_type": "slide"
    }
   },
   "source": [
    "<center><h1>MCMC</h1>\n",
    "    <table>\n",
    "        <tr>\n",
    "            <td><img src='pymc3.gif'></td>\n",
    "            <td><img src='matplotlib.gif'></td>\n",
    "            <td><img src='python.gif'></td>\n",
    "        </tr>\n",
    "    </table>\n",
    "</center>\n"
   ]
  },
  {
   "cell_type": "markdown",
   "metadata": {
    "slideshow": {
     "slide_type": "slide"
    }
   },
   "source": [
    "<center><h1>Variational Inference</h1>\n",
    "<img src='advi1.png'>\n",
    "</center>\n",
    "        <cite>Nicole Carlson</cite>\n"
   ]
  },
  {
   "cell_type": "markdown",
   "metadata": {
    "slideshow": {
     "slide_type": "slide"
    }
   },
   "source": [
    "<center><h1>Gaussian Processes</h1>\n",
    "\n",
    "<img src=\"gp1.png\">\n",
    "<img src=\"gp2.png\">\n",
    "</center>\n",
    "<cite>Bill Engels</cite>"
   ]
  },
  {
   "cell_type": "markdown",
   "metadata": {
    "slideshow": {
     "slide_type": "slide"
    }
   },
   "source": [
    "<center><h1>Intuitive Syntax</h1></center>\n",
    "<table>\n",
    "    <tr>\n",
    "        <td>\n",
    "            <pre><code>\n",
    "with pm.Model() as varying_intercept:\n",
    "    # Priors\n",
    "    mu_a = pm.Normal('mu_a', mu=0., tau=0.0001)\n",
    "    sigma_a = pm.HalfCauchy('sigma_a', 5)\n",
    "\n",
    "    # Random intercepts\n",
    "    a = pm.Normal('a', mu=mu_a, sd=sigma_a, shape=counties)\n",
    "    # Common slope\n",
    "    b = pm.Normal('b', mu=0., sd=1e5)\n",
    "\n",
    "    # Model error\n",
    "    sd_y = pm.HalfCauchy('sd_y', 5)\n",
    "\n",
    "    # Expected value\n",
    "    y_hat = a[county] + b * floor_measure\n",
    "\n",
    "    # Data likelihood\n",
    "    y_like = pm.Normal('y_like', mu=y_hat, sd=sd_y, observed=log_radon)\n",
    "</code></pre></td>\n",
    "<td>\n",
    " <img src=\"radon.svg\"></td>\n",
    " </tr>\n",
    " </table>"
   ]
  },
  {
   "cell_type": "markdown",
   "metadata": {
    "slideshow": {
     "slide_type": "slide"
    }
   },
   "source": [
    "<center>\n",
    "    <h1>Roadmap and Challenges</h1>\n",
    "    \n",
    "<img src=\"theano.png\"/>\n",
    "</center>"
   ]
  },
  {
   "cell_type": "markdown",
   "metadata": {
    "slideshow": {
     "slide_type": "slide"
    }
   },
   "source": [
    "<center>\n",
    "    <h1>Roadmap and Challenges</h1>\n",
    "    \n",
    "<img src=\"tfp.png\"/>\n",
    "</center>"
   ]
  },
  {
   "cell_type": "markdown",
   "metadata": {
    "slideshow": {
     "slide_type": "slide"
    }
   },
   "source": [
    "<center>\n",
    "    <h1>Roadmap and Challenges</h1>\n",
    "    \n",
    "<img src=\"gsoc.png\"/>\n",
    "</center>"
   ]
  },
  {
   "cell_type": "markdown",
   "metadata": {
    "slideshow": {
     "slide_type": "slide"
    }
   },
   "source": [
    "<center>\n",
    "    <h1>Other exciting progress</h1>\n",
    "    \n",
    "</center>\n",
    "\n",
    "<ul> \n",
    "    <li>Approximate Bayesian Computation <it>Agustina Arroyuelo</it>\n",
    "    <li> Gaussian Processes <it>Bill Engels</it>\n",
    "        </ul>"
   ]
  },
  {
   "cell_type": "markdown",
   "metadata": {
    "slideshow": {
     "slide_type": "slide"
    }
   },
   "source": [
    "<center>\n",
    "    <h1>ArviZ</h1>\n",
    "</center>\n",
    "\n",
    "<table>\n",
    "<tr>\n",
    "\n",
    "  <td>\n",
    "  <a href=\"https://arviz-devs.github.io/arviz/examples/plot_forest_ridge.html\">\n",
    "  <img alt=\"Ridge plot\"\n",
    "  src=\"https://arviz-devs.github.io/arviz/_static/plot_forest_ridge_thumb.png\" />\n",
    "  </a>\n",
    "  </td>\n",
    "\n",
    "  <td>\n",
    "  <a href=\"https://arviz-devs.github.io/arviz/examples/plot_parallel.html\">\n",
    "  <img alt=\"Parallel plot\"\n",
    "  src=\"https://arviz-devs.github.io/arviz/_static/plot_parallel_thumb.png\" />\n",
    "  </a>\n",
    "  </td>\n",
    "\n",
    "  <td>\n",
    "  <a href=\"https://arviz-devs.github.io/arviz/examples/plot_trace.html\">\n",
    "  <img alt=\"Trace plot\"\n",
    "  src=\"https://arviz-devs.github.io/arviz/_static/plot_trace_thumb.png\" />\n",
    "  </a>\n",
    "  </td>\n",
    "\n",
    "  <td>\n",
    "  <a href=\"https://arviz-devs.github.io/arviz/examples/plot_density.html\">\n",
    "  <img alt=\"Density plot\"\n",
    "  src=\"https://arviz-devs.github.io/arviz/_static/plot_density_thumb.png\" />\n",
    "  </a>\n",
    "  </td>\n",
    "\n",
    "  <td>\n",
    "  <a href=\"https://arviz-devs.github.io/arviz/examples/plot_energy.html\">\n",
    "  <img alt=\"Energy Plot\"\n",
    "  src=\"https://arviz-devs.github.io/arviz/_static/plot_energy_thumb.png\" />\n",
    "  </a>\n",
    "  </td>\n",
    "\n",
    "  <td>\n",
    "  <a href=\"https://arviz-devs.github.io/arviz/examples/plot_violin.html\">\n",
    "  <img alt=\"Violin Plot\"\n",
    "  src=\"https://arviz-devs.github.io/arviz/_static/plot_violin_thumb.png\" />\n",
    "  </a>\n",
    "  </td>\n",
    "  </tr>\n",
    "  <tr>\n",
    "\n",
    "  <td>\n",
    "  <a href=\"https://arviz-devs.github.io/arviz/examples/plot_posterior.html\">\n",
    "  <img alt=\"Posterior plot\"\n",
    "  src=\"https://arviz-devs.github.io/arviz/_static/plot_posterior_thumb.png\" />\n",
    "  </a>\n",
    "  </td>\n",
    "\n",
    "  <td>\n",
    "  <a href=\"https://arviz-devs.github.io/arviz/examples/plot_joint.html\">\n",
    "  <img alt=\"Joint plot\"\n",
    "  src=\"https://arviz-devs.github.io/arviz/_static/plot_joint_thumb.png\" />\n",
    "  </a>\n",
    "  </td>\n",
    "\n",
    "  <td>\n",
    "  <a href=\"https://arviz-devs.github.io/arviz/examples/plot_ppc.html\">\n",
    "  <img alt=\"Posterior predictive plot\"\n",
    "  src=\"https://arviz-devs.github.io/arviz/_static/plot_ppc_thumb.png\" />\n",
    "  </a>\n",
    "  </td>\n",
    "\n",
    "  <td>\n",
    "  <a href=\"https://arviz-devs.github.io/arviz/examples/plot_pair.html\">\n",
    "  <img alt=\"Pair plot\"\n",
    "  src=\"https://arviz-devs.github.io/arviz/_static/plot_pair_thumb.png\" />\n",
    "  </a>\n",
    "  </td>\n",
    "  <td>\n",
    "  <a href=\"https://arviz-devs.github.io/arviz/examples/plot_forest.html\">\n",
    "  <img alt=\"Forest Plot\"\n",
    "  src=\"https://arviz-devs.github.io/arviz/_static/plot_forest_thumb.png\" />\n",
    "  </a>\n",
    "  </td>\n",
    "\n",
    "  <td>\n",
    "  <a href=\"https://arviz-devs.github.io/arviz/examples/plot_autocorr.html\">\n",
    "  <img alt=\"Autocorrelation Plot\"\n",
    "  src=\"https://arviz-devs.github.io/arviz/_static/plot_autocorr_thumb.png\" />\n",
    "  </a>\n",
    "  </td>\n",
    "  </tr>\n",
    "</table>\n"
   ]
  }
 ],
 "metadata": {
  "celltoolbar": "Slideshow",
  "kernelspec": {
   "display_name": "pymc3_roadmap3.6",
   "language": "python",
   "name": "pymc3_roadmap3_6"
  },
  "language_info": {
   "codemirror_mode": {
    "name": "ipython",
    "version": 3
   },
   "file_extension": ".py",
   "mimetype": "text/x-python",
   "name": "python",
   "nbconvert_exporter": "python",
   "pygments_lexer": "ipython3",
   "version": "3.6.6"
  }
 },
 "nbformat": 4,
 "nbformat_minor": 2
}
